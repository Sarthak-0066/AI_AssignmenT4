{
  "nbformat": 4,
  "nbformat_minor": 0,
  "metadata": {
    "colab": {
      "provenance": []
    },
    "kernelspec": {
      "name": "python3",
      "display_name": "Python 3"
    },
    "language_info": {
      "name": "python"
    }
  },
  "cells": [
    {
      "cell_type": "code",
      "execution_count": 37,
      "metadata": {
        "colab": {
          "base_uri": "https://localhost:8080/"
        },
        "id": "F0PSLTzackJ0",
        "outputId": "09da4db6-7c8e-49cc-9822-b740e68f3807"
      },
      "outputs": [
        {
          "output_type": "stream",
          "name": "stdout",
          "text": [
            "SARTHAK GARG\n",
            "SARTHAK GARG\n",
            "SARTHAK GARG\n"
          ]
        }
      ],
      "source": [
        "#Q1\n",
        "for i in range(0,3):\n",
        "  print(\"SARTHAK GARG\")"
      ]
    },
    {
      "cell_type": "code",
      "source": [
        "#Q2\n",
        "a=6\n",
        "b=10\n",
        "c=5\n",
        "d= a+b+c\n",
        "print(d)"
      ],
      "metadata": {
        "colab": {
          "base_uri": "https://localhost:8080/"
        },
        "id": "ylbVLDePh13O",
        "outputId": "c6bbdaee-2d48-4919-ebc5-04624de2ad1d"
      },
      "execution_count": 38,
      "outputs": [
        {
          "output_type": "stream",
          "name": "stdout",
          "text": [
            "21\n"
          ]
        }
      ]
    },
    {
      "cell_type": "code",
      "source": [
        "#Q3\n",
        "a=\"Nice\"\n",
        "b=\" To \"\n",
        "c=\" Meet You \"\n",
        "d=a+b+c\n",
        "print(d)"
      ],
      "metadata": {
        "colab": {
          "base_uri": "https://localhost:8080/"
        },
        "id": "-FyIQDwIjXkR",
        "outputId": "4fe73d4b-e8d0-433a-9481-24a9d7150ccf"
      },
      "execution_count": 39,
      "outputs": [
        {
          "output_type": "stream",
          "name": "stdout",
          "text": [
            "Nice To  Meet You \n"
          ]
        }
      ]
    },
    {
      "cell_type": "code",
      "source": [
        "#Q4\n",
        "for i in range(1,11):\n",
        "  print(7,\"*\",i,\"=\",i*7)"
      ],
      "metadata": {
        "colab": {
          "base_uri": "https://localhost:8080/"
        },
        "id": "kjzGm4fTjpvM",
        "outputId": "2f22addd-4b0a-4c90-a228-8f929c6cf1e4"
      },
      "execution_count": 40,
      "outputs": [
        {
          "output_type": "stream",
          "name": "stdout",
          "text": [
            "7 * 1 = 7\n",
            "7 * 2 = 14\n",
            "7 * 3 = 21\n",
            "7 * 4 = 28\n",
            "7 * 5 = 35\n",
            "7 * 6 = 42\n",
            "7 * 7 = 49\n",
            "7 * 8 = 56\n",
            "7 * 9 = 63\n",
            "7 * 10 = 70\n"
          ]
        }
      ]
    },
    {
      "cell_type": "code",
      "source": [
        "#Q4\n",
        "for i in range(1,11):\n",
        "  print(9,\"*\",i,\"=\",i*9)\n"
      ],
      "metadata": {
        "colab": {
          "base_uri": "https://localhost:8080/"
        },
        "id": "Uozyb-I3jzhg",
        "outputId": "68c1a84f-56f8-4f0c-d4a9-fc37d1646ece"
      },
      "execution_count": 41,
      "outputs": [
        {
          "output_type": "stream",
          "name": "stdout",
          "text": [
            "9 * 1 = 9\n",
            "9 * 2 = 18\n",
            "9 * 3 = 27\n",
            "9 * 4 = 36\n",
            "9 * 5 = 45\n",
            "9 * 6 = 54\n",
            "9 * 7 = 63\n",
            "9 * 8 = 72\n",
            "9 * 9 = 81\n",
            "9 * 10 = 90\n"
          ]
        }
      ]
    },
    {
      "cell_type": "code",
      "source": [
        "#Q5\n",
        "a=int(input((\"Enter Number:\")))\n",
        "for i in range(1,11):\n",
        "  print(a,\"*\",i,\"=\",a*i)"
      ],
      "metadata": {
        "colab": {
          "base_uri": "https://localhost:8080/"
        },
        "id": "jpVKaUmgj4cr",
        "outputId": "aaf44d6a-cd84-40f7-d825-f38983fc09fc"
      },
      "execution_count": 42,
      "outputs": [
        {
          "output_type": "stream",
          "name": "stdout",
          "text": [
            "Enter Number:4\n",
            "4 * 1 = 4\n",
            "4 * 2 = 8\n",
            "4 * 3 = 12\n",
            "4 * 4 = 16\n",
            "4 * 5 = 20\n",
            "4 * 6 = 24\n",
            "4 * 7 = 28\n",
            "4 * 8 = 32\n",
            "4 * 9 = 36\n",
            "4 * 10 = 40\n"
          ]
        }
      ]
    },
    {
      "cell_type": "code",
      "source": [
        "#Q6\n",
        "n = int(input(\"Enter Number :\"))\n",
        "sum = 0\n",
        "for i in range(1,n+1):\n",
        "    sum+=i;\n",
        "print(sum)"
      ],
      "metadata": {
        "colab": {
          "base_uri": "https://localhost:8080/"
        },
        "id": "Afuq4VOykB6d",
        "outputId": "73a7db57-fd8a-4dac-8434-f3b7d0766c19"
      },
      "execution_count": 43,
      "outputs": [
        {
          "output_type": "stream",
          "name": "stdout",
          "text": [
            "Enter Number :7\n",
            "28\n"
          ]
        }
      ]
    },
    {
      "cell_type": "code",
      "source": [
        "#Q7\n",
        "x = int(input(\"Enter 1st Number : \"))\n",
        "y = int(input(\"Enter 2nd Number : \"))\n",
        "z = int(input(\"Enter 3rd NUmber : \"))\n",
        "print(\"The Largest of Three Numbers is : \",max(x,y,z))\n"
      ],
      "metadata": {
        "colab": {
          "base_uri": "https://localhost:8080/"
        },
        "id": "nRlpTj3xkMwq",
        "outputId": "5244b43a-62db-4146-ffe6-643659c54b99"
      },
      "execution_count": 44,
      "outputs": [
        {
          "output_type": "stream",
          "name": "stdout",
          "text": [
            "Enter 1st Number : 5\n",
            "Enter 2nd Number : 6\n",
            "Enter 3rd NUmber : 9\n",
            "The Largest of Three Numbers is :  9\n"
          ]
        }
      ]
    },
    {
      "cell_type": "code",
      "source": [
        "#Q8\n",
        "\n",
        "\n",
        "n = int(input(\"Enter the value of n: \"))\n",
        "sum = 0\n",
        "\n",
        "for i in range(1, n + 1):\n",
        "    if i % 7 == 0 and i % 9 == 0:\n",
        "        sum += i\n",
        "\n",
        "print(f\"Sum of Numbers both Divisble by 7 and 9 from 1 to {n} is: \",sum)\n",
        "\n"
      ],
      "metadata": {
        "colab": {
          "base_uri": "https://localhost:8080/"
        },
        "id": "yOVKlL0UkujM",
        "outputId": "8a1f5ce0-1453-4e2d-e9de-88267ed56773"
      },
      "execution_count": 45,
      "outputs": [
        {
          "output_type": "stream",
          "name": "stdout",
          "text": [
            "Enter the value of n: 5\n",
            "Sum of Numbers both Divisble by 7 and 9 from 1 to 5 is:  0\n"
          ]
        }
      ]
    },
    {
      "cell_type": "code",
      "source": [
        "#Q9\n",
        "a = int(input(\"Enter Number :\"))\n",
        "Sum = 0\n",
        "for num in range(2,a+1):\n",
        "  is_prime = True\n",
        "  for i in range(2, int(num * 0.5) + 1):\n",
        "        if num % i == 0:\n",
        "            is_prime = False\n",
        "            break\n",
        "  if is_prime:\n",
        "        Sum += num\n",
        "\n",
        "print(Sum)"
      ],
      "metadata": {
        "colab": {
          "base_uri": "https://localhost:8080/"
        },
        "id": "zT-w4Ql4nuvh",
        "outputId": "069cfffd-3eff-406d-ac48-0b70fd5caff0"
      },
      "execution_count": 46,
      "outputs": [
        {
          "output_type": "stream",
          "name": "stdout",
          "text": [
            "Enter Number :10\n",
            "17\n"
          ]
        }
      ]
    },
    {
      "cell_type": "code",
      "source": [
        "#Q10\n",
        "def sum(b):\n",
        " sum = 0\n",
        " for i in range(1,b+1,2):\n",
        "      sum+=i\n",
        " return sum\n",
        "a= int(input(\"Enter Number :\"))\n",
        "print(sum(a))"
      ],
      "metadata": {
        "colab": {
          "base_uri": "https://localhost:8080/"
        },
        "id": "wxjAizfyoHmg",
        "outputId": "9d6e7a17-033c-4d3b-958c-4220c330065f"
      },
      "execution_count": 47,
      "outputs": [
        {
          "output_type": "stream",
          "name": "stdout",
          "text": [
            "Enter Number :8\n",
            "16\n"
          ]
        }
      ]
    },
    {
      "cell_type": "code",
      "source": [
        "#Q11\n",
        "def sum(a):\n",
        "  sum = 0\n",
        "  for num in range(2,a+1):\n",
        "     is_prime = True\n",
        "     for i in range(2, int(num * 0.5) + 1):\n",
        "         if num % i == 0:\n",
        "            is_prime = False\n",
        "            break\n",
        "     if is_prime:\n",
        "          sum += num\n",
        "  return sum\n",
        "b = int(input(\"Enter Number :\"))\n",
        "print(sum(b))"
      ],
      "metadata": {
        "colab": {
          "base_uri": "https://localhost:8080/"
        },
        "id": "mbFqnIwzoob9",
        "outputId": "60cc64ae-a366-4978-9d6d-26fe5e42c0e4"
      },
      "execution_count": 50,
      "outputs": [
        {
          "output_type": "stream",
          "name": "stdout",
          "text": [
            "Enter Number :3\n",
            "5\n"
          ]
        }
      ]
    }
  ]
}
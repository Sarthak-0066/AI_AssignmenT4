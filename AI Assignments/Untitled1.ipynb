{
  "nbformat": 4,
  "nbformat_minor": 0,
  "metadata": {
    "colab": {
      "provenance": []
    },
    "kernelspec": {
      "name": "python3",
      "display_name": "Python 3"
    },
    "language_info": {
      "name": "python"
    }
  },
  "cells": [
    {
      "cell_type": "code",
      "execution_count": 20,
      "metadata": {
        "colab": {
          "base_uri": "https://localhost:8080/"
        },
        "id": "tPmTLgZFkkRD",
        "outputId": "86a48ee4-9006-42f7-cdcf-57435523478f"
      },
      "outputs": [
        {
          "output_type": "stream",
          "name": "stdout",
          "text": [
            "Array: [10 15 20 25 30 35 40 45 50]\n",
            "Shape: (9,)\n",
            "Size: 9\n",
            "Data Type: int64\n"
          ]
        }
      ],
      "source": [
        "#Q1\n",
        "import numpy as nump\n",
        "arr1 = nump.arange(10, 51, 5)\n",
        "print(\"Array:\", arr1)\n",
        "print(\"Shape:\", arr1.shape)\n",
        "print(\"Size:\", arr1.size)\n",
        "print(\"Data Type:\", arr1.dtype)"
      ]
    },
    {
      "cell_type": "code",
      "source": [
        "#Q2\n",
        "array = nump.random.randint(1, 101, size=(4, 5))\n",
        "print(\"\\n Random Matrix:\\n\", array)\n",
        "print(\"Max Value:\", array.max(), \"at index\", nump.unravel_index(array.argmax(), array.shape))\n",
        "print(\"Min Value:\", array.min(), \"at index\", nump.unravel_index(array.argmin(), array.shape))"
      ],
      "metadata": {
        "colab": {
          "base_uri": "https://localhost:8080/"
        },
        "id": "FHLeg4VrlKzF",
        "outputId": "35698e40-cbfc-4124-8f9e-91b38ae7b89e"
      },
      "execution_count": 19,
      "outputs": [
        {
          "output_type": "stream",
          "name": "stdout",
          "text": [
            "\n",
            " Random Matrix:\n",
            " [[39 44 57 86 18]\n",
            " [18  5 20 40  2]\n",
            " [71 81 90 67 31]\n",
            " [63 74 35 34 33]]\n",
            "Max Value: 90 at index (np.int64(2), np.int64(2))\n",
            "Min Value: 2 at index (np.int64(1), np.int64(4))\n"
          ]
        }
      ]
    },
    {
      "cell_type": "code",
      "source": [
        "#Q3\n",
        "array2 = nump.arange(1, 25).reshape(4, 6)\n",
        "print(\"\\n Matrix: \\n\", array2)\n",
        "print(\" 2nd Row: \", array2[1])\n",
        "print(\" 3rd Column: \", array2[:, 2])"
      ],
      "metadata": {
        "colab": {
          "base_uri": "https://localhost:8080/"
        },
        "id": "PEtCNzBplca6",
        "outputId": "69b8ce46-455c-46ba-fe5f-628d59cd2e16"
      },
      "execution_count": 18,
      "outputs": [
        {
          "output_type": "stream",
          "name": "stdout",
          "text": [
            "\n",
            " Matrix: \n",
            " [[ 1  2  3  4  5  6]\n",
            " [ 7  8  9 10 11 12]\n",
            " [13 14 15 16 17 18]\n",
            " [19 20 21 22 23 24]]\n",
            " 2nd Row:  [ 7  8  9 10 11 12]\n",
            " 3rd Column:  [ 3  9 15 21]\n"
          ]
        }
      ]
    },
    {
      "cell_type": "code",
      "source": [
        "#Q4\n",
        "array3 = nump.random.randint(0, 51, size=15)\n",
        "print(\"\\nOriginal Array:\", array3)\n",
        "array3[array3 > 25] = -1\n",
        "print(\"Modified Array:\", array3)"
      ],
      "metadata": {
        "colab": {
          "base_uri": "https://localhost:8080/"
        },
        "id": "SVVrwemxlufM",
        "outputId": "66d2f853-652f-4247-ecb3-0158dc47f44b"
      },
      "execution_count": 7,
      "outputs": [
        {
          "output_type": "stream",
          "name": "stdout",
          "text": [
            "\n",
            "Original Array: [ 2 45 26 38 23 46  8 26 41  4  7  4 26 50  1]\n",
            "Modified Array: [ 2 -1 -1 -1 23 -1  8 -1 -1  4  7  4 -1 -1  1]\n"
          ]
        }
      ]
    },
    {
      "cell_type": "code",
      "source": [
        "#Q5\n",
        "a = nump.array([1, 2, 3, 4, 5])\n",
        "b = nump.array([10, 20, 30, 40, 50])\n",
        "print(\"\\nAddition:\", a + b)\n",
        "print(\"Subtraction:\", a - b)\n",
        "print(\"Multiplication:\", a * b)\n",
        "print(\"Division:\", a / b)"
      ],
      "metadata": {
        "colab": {
          "base_uri": "https://localhost:8080/"
        },
        "id": "BcMPcdEFmC_7",
        "outputId": "0047b185-f2b8-468f-b68e-51a0139a8b53"
      },
      "execution_count": 8,
      "outputs": [
        {
          "output_type": "stream",
          "name": "stdout",
          "text": [
            "\n",
            "Addition: [11 22 33 44 55]\n",
            "Subtraction: [ -9 -18 -27 -36 -45]\n",
            "Multiplication: [ 10  40  90 160 250]\n",
            "Division: [0.1 0.1 0.1 0.1 0.1]\n"
          ]
        }
      ]
    },
    {
      "cell_type": "code",
      "source": [
        "#Q6\n",
        "array = nump.random.rand(5, 5)\n",
        "print(\"\\n5x5 Random Floats:\\n\", array)\n",
        "print(\"Mean:\", array.mean())\n",
        "print(\"Median:\", nump.median(array))\n",
        "print(\"Variance:\", array.var())\n",
        "print(\"Standard Deviation:\", array.std())"
      ],
      "metadata": {
        "colab": {
          "base_uri": "https://localhost:8080/"
        },
        "id": "_j5mSVLgmYH-",
        "outputId": "a5647770-ac02-4fc3-b0e9-0c185ad18054"
      },
      "execution_count": 9,
      "outputs": [
        {
          "output_type": "stream",
          "name": "stdout",
          "text": [
            "\n",
            "5x5 Random Floats:\n",
            " [[0.04683095 0.06763312 0.17345744 0.82423809 0.551971  ]\n",
            " [0.50289078 0.00550236 0.86139891 0.99744228 0.31170689]\n",
            " [0.74137247 0.3541551  0.99926548 0.45597553 0.48538334]\n",
            " [0.97378716 0.49057269 0.18135806 0.46058305 0.2207347 ]\n",
            " [0.52869546 0.51070721 0.94211369 0.13339815 0.33535485]]\n",
            "Mean: 0.48626115100589706\n",
            "Median: 0.4853833399261376\n",
            "Variance: 0.09418358937733842\n",
            "Standard Deviation: 0.30689344955104275\n"
          ]
        }
      ]
    },
    {
      "cell_type": "code",
      "source": [
        "#Q7\n",
        "A = nump.arange(1, 7).reshape(3, 2)\n",
        "B = nump.arange(7, 13).reshape(2, 3)\n",
        "C = A @ B\n",
        "print(\"\\n Matrix A: \\n\", A)\n",
        "print(\" Matrix B: \\n\", B)\n",
        "print(\" A @ B: \\n\", C)"
      ],
      "metadata": {
        "colab": {
          "base_uri": "https://localhost:8080/"
        },
        "id": "lwFNf1_SmoVf",
        "outputId": "4be3896c-5259-491c-c3ea-e718af8c7d4b"
      },
      "execution_count": 10,
      "outputs": [
        {
          "output_type": "stream",
          "name": "stdout",
          "text": [
            "\n",
            " Matrix A: \n",
            " [[1 2]\n",
            " [3 4]\n",
            " [5 6]]\n",
            " Matrix B: \n",
            " [[ 7  8  9]\n",
            " [10 11 12]]\n",
            " A @ B: \n",
            " [[ 27  30  33]\n",
            " [ 61  68  75]\n",
            " [ 95 106 117]]\n"
          ]
        }
      ]
    },
    {
      "cell_type": "code",
      "source": [
        "#Q8\n",
        "array = nump.arange(1, 37).reshape(6, 6)\n",
        "print(\"\\n Original one : \\n\", array)\n",
        "array[1:4, 1:4] = 0\n",
        "print(\" Modified  with new center  = 0: \\n\", array)"
      ],
      "metadata": {
        "colab": {
          "base_uri": "https://localhost:8080/"
        },
        "id": "Bl8Kgh_lm0We",
        "outputId": "51a8c342-3e0d-49b4-e664-4f16c9fb9448"
      },
      "execution_count": 16,
      "outputs": [
        {
          "output_type": "stream",
          "name": "stdout",
          "text": [
            "\n",
            " Original one : \n",
            " [[ 1  2  3  4  5  6]\n",
            " [ 7  8  9 10 11 12]\n",
            " [13 14 15 16 17 18]\n",
            " [19 20 21 22 23 24]\n",
            " [25 26 27 28 29 30]\n",
            " [31 32 33 34 35 36]]\n",
            " Modified  with new center  = 0: \n",
            " [[ 1  2  3  4  5  6]\n",
            " [ 7  0  0  0 11 12]\n",
            " [13  0  0  0 17 18]\n",
            " [19  0  0  0 23 24]\n",
            " [25 26 27 28 29 30]\n",
            " [31 32 33 34 35 36]]\n"
          ]
        }
      ]
    },
    {
      "cell_type": "code",
      "source": [
        "#Q9\n",
        "array = nump.array([5, 10, 15, 20, 25])\n",
        "modified9 = nump.where(array > 15, 99, 0)\n",
        "print(\"\\n Original Array: \", array)\n",
        "print( \"Modified with nump.where:\", modified9)\n"
      ],
      "metadata": {
        "colab": {
          "base_uri": "https://localhost:8080/"
        },
        "id": "ZTSGx78ZnYrm",
        "outputId": "d4b22992-939a-4056-9e30-d231d815d7fa"
      },
      "execution_count": 12,
      "outputs": [
        {
          "output_type": "stream",
          "name": "stdout",
          "text": [
            "\n",
            " Original Array:  [ 5 10 15 20 25]\n",
            "Modified with np.where: [ 0  0  0 99 99]\n"
          ]
        }
      ]
    },
    {
      "cell_type": "code",
      "source": [
        "#Q9\n",
        "array = nump.full((4, 4), 10)\n",
        "subtractor = nump.array([0, 1, 2, 3])\n",
        "result = array - subtractor\n",
        "print(\"\\n Array filled with 10: \\n\", array)\n",
        "print(\" Result after  Subtraction: \\n\", result)"
      ],
      "metadata": {
        "colab": {
          "base_uri": "https://localhost:8080/"
        },
        "id": "tfhCLoiLni8m",
        "outputId": "daf53c2a-4537-4630-c014-cf961074a197"
      },
      "execution_count": 14,
      "outputs": [
        {
          "output_type": "stream",
          "name": "stdout",
          "text": [
            "\n",
            " Array filled with 10: \n",
            " [[10 10 10 10]\n",
            " [10 10 10 10]\n",
            " [10 10 10 10]\n",
            " [10 10 10 10]]\n",
            " Result after  Subtraction: \n",
            " [[10  9  8  7]\n",
            " [10  9  8  7]\n",
            " [10  9  8  7]\n",
            " [10  9  8  7]]\n"
          ]
        }
      ]
    }
  ]
}